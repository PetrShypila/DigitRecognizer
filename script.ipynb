{
 "cells": [
  {
   "cell_type": "code",
   "execution_count": 1,
   "metadata": {
    "collapsed": false
   },
   "outputs": [],
   "source": [
    "import csv\n",
    "import numpy as np\n",
    "import pandas as pd\n",
    "import tensorflow as tf\n",
    "\n",
    "from sklearn import utils\n",
    "import matplotlib.pyplot as plt\n",
    "from collections import Counter\n",
    "%matplotlib inline"
   ]
  },
  {
   "cell_type": "code",
   "execution_count": 2,
   "metadata": {
    "collapsed": true
   },
   "outputs": [],
   "source": [
    "image_size = 28 # 28*28\n",
    "num_channels = 1 # grayscale"
   ]
  },
  {
   "cell_type": "code",
   "execution_count": 3,
   "metadata": {
    "collapsed": false
   },
   "outputs": [
    {
     "name": "stdout",
     "output_type": "stream",
     "text": [
      "(42000, 28, 28, 1)\n",
      "(42000,)\n"
     ]
    }
   ],
   "source": [
    "train_csv = pd.read_csv('train.csv');\n",
    "X_train = np.array(train_csv.iloc[:,1:], dtype=np.float32) / 255.0 - 0.5\n",
    "X_train = X_train.reshape(-1, image_size, image_size, num_channels)\n",
    "y_train = np.array(train_csv.iloc[:,0], dtype=np.int32)\n",
    "print(X_train.shape)\n",
    "print(y_train.shape)"
   ]
  },
  {
   "cell_type": "code",
   "execution_count": 4,
   "metadata": {
    "collapsed": false
   },
   "outputs": [
    {
     "name": "stdout",
     "output_type": "stream",
     "text": [
      "(28000, 28, 28, 1)\n",
      "(28000,)\n"
     ]
    }
   ],
   "source": [
    "test_samples = pd.read_csv('test.csv');\n",
    "predicted_labels = pd.read_csv('labels.csv'); # Labels predicted with 99% accuracy\n",
    "X_test = test_samples.as_matrix() / 255.0 - 0.5\n",
    "X_test= X_test.reshape(-1, image_size, image_size, num_channels)\n",
    "y_test = predicted_labels.as_matrix()[:,1]\n",
    "print(X_test.shape)\n",
    "print(y_test.shape)"
   ]
  },
  {
   "cell_type": "code",
   "execution_count": 5,
   "metadata": {
    "collapsed": false
   },
   "outputs": [
    {
     "data": {
      "text/plain": [
       "<matplotlib.text.Text at 0x11ae31590>"
      ]
     },
     "execution_count": 5,
     "metadata": {},
     "output_type": "execute_result"
    },
    {
     "data": {
      "image/png": "[encoded data removed]",
      "text/plain": [
       "<matplotlib.figure.Figure at 0x11ae80d50>"
      ]
     },
     "metadata": {},
     "output_type": "display_data"
    }
   ],
   "source": [
    "train_count = Counter(y_train)\n",
    "test_count = Counter(y_test)\n",
    "\n",
    "f, (ax1, ax2) = plt.subplots(1, 2, figsize=(20, 5))\n",
    "\n",
    "ax1.bar(train_count.keys(), train_count.values(), align='center')\n",
    "ax1.set_xticks(train_count.keys())\n",
    "ax1.set_title('Train')\n",
    "ax1.set_xlabel('Labels')\n",
    "ax1.set_ylabel('Occurencies')\n",
    "\n",
    "ax2.bar(test_count.keys(), test_count.values(), align='center')\n",
    "ax2.set_xticks(test_count.keys())\n",
    "ax2.set_title('Test')\n",
    "ax2.set_xlabel('Labels')\n",
    "ax2.set_ylabel('Occurencies')"
   ]
  },
  {
   "cell_type": "code",
   "execution_count": 6,
   "metadata": {
    "collapsed": false
   },
   "outputs": [],
   "source": [
    "counter = 0 # Global variable to print image id to submission.csv file. More info about submission file format could be found on kaggle.com\n",
    "\n",
    "def submisstion(predictions):\n",
    "    global counter\n",
    "    with open('submission.csv', 'w') as csvfile:\n",
    "        imageId = 'ImageId'\n",
    "        label = 'Label'\n",
    "        fieldnames = [imageId, label]\n",
    "        writer = csv.DictWriter(csvfile, fieldnames=fieldnames)\n",
    "        writer.writeheader()\n",
    "        \n",
    "        for pred in np.argmax(predictions, 1):\n",
    "            counter += 1\n",
    "            writer.writerow({imageId:counter, label:pred})\n",
    "            \n",
    "def db_type():\n",
    "    return tf.float32\n",
    "\n",
    "def accuracy(predictions, labels):\n",
    "    return (100.0 * np.sum(np.argmax(predictions, 1) == labels) / predictions.shape[0])"
   ]
  },
  {
   "cell_type": "code",
   "execution_count": 7,
   "metadata": {
    "collapsed": false
   },
   "outputs": [],
   "source": [
    "train_size = y_train.shape[0]\n",
    "\n",
    "num_labels = 10 # 0-9\n",
    "batch_size = 64\n",
    "patch_size = 5\n",
    "\n",
    "depth1 = 32\n",
    "depth2 = 64\n",
    "depth3 = 128\n",
    "\n",
    "num_hidden1 = 512\n",
    "num_hidden2 = 64\n",
    "num_hidden3 = 32"
   ]
  },
  {
   "cell_type": "code",
   "execution_count": 11,
   "metadata": {
    "collapsed": false
   },
   "outputs": [],
   "source": [
    "tf_train_dataset = tf.placeholder(db_type(), shape=(batch_size, image_size, image_size, num_channels))\n",
    "tf_train_labels = tf.placeholder(tf.int32, shape=(batch_size,))\n",
    "tf_test_dataset = tf.constant(X_test, dtype=db_type())\n",
    "\n",
    "# Variables.\n",
    "layer1_weight = tf.Variable(tf.truncated_normal([patch_size, patch_size, num_channels, depth1], stddev=0.1, dtype=db_type()))\n",
    "layer1_biases = tf.Variable(tf.zeros([depth1], dtype=db_type()))\n",
    "\n",
    "layer2_weight = tf.Variable(tf.truncated_normal([patch_size, patch_size, depth1, depth2], stddev=0.1, dtype=db_type()))\n",
    "layer2_biases = tf.Variable(tf.constant(0.1, shape=[depth2], dtype=db_type()))\n",
    "\n",
    "layer3_weight = tf.Variable(tf.truncated_normal([patch_size, patch_size, depth2, depth3], stddev=0.1, dtype=db_type()))\n",
    "layer3_biases = tf.Variable(tf.constant(0.1, shape=[depth3], dtype=db_type()))\n",
    "\n",
    "fc1_weight = tf.Variable(tf.truncated_normal([12544/2, num_hidden1], stddev=0.1, dtype=db_type()))\n",
    "fc1_biases = tf.Variable(tf.constant(0.1, shape=[num_hidden1], dtype=db_type()))\n",
    "\n",
    "fc2_weight = tf.Variable(tf.truncated_normal([num_hidden1, num_hidden2], stddev=0.1, dtype=db_type()))\n",
    "fc2_biases = tf.Variable(tf.constant(0.1, shape=[num_hidden2], dtype=db_type()))\n",
    "\n",
    "fc3_weight = tf.Variable(tf.truncated_normal([num_hidden2, num_hidden3], stddev=0.1, dtype=db_type()))\n",
    "fc3_biases = tf.Variable(tf.constant(0.1, shape=[num_hidden3], dtype=db_type()))\n",
    "\n",
    "fc4_weight = tf.Variable(tf.truncated_normal([num_hidden3, num_labels], stddev=0.1, dtype=db_type()))\n",
    "fc4_biases = tf.Variable(tf.constant(0.1, shape=[num_labels], dtype=db_type()))\n",
    "\n",
    "# Model.\n",
    "def model(data, keep_prob):\n",
    "    conv = tf.nn.conv2d(data, layer1_weight, strides=[1,1,1,1], padding='SAME')\n",
    "    relu = tf.nn.relu(tf.nn.bias_add(conv, layer1_biases))\n",
    "    pool = tf.nn.max_pool(relu, ksize=[1,2,2,1], strides=[1,2,2,1], padding='SAME')\n",
    "\n",
    "    conv = tf.nn.conv2d(pool, layer2_weight, strides=[1,1,1,1], padding='SAME')\n",
    "    relu = tf.nn.relu(tf.nn.bias_add(conv, layer2_biases))\n",
    "    pool = tf.nn.max_pool(relu, ksize=[1,2,2,1], strides=[1,2,2,1], padding='SAME')\n",
    "        \n",
    "    conv = tf.nn.conv2d(pool, layer3_weight, strides=[1,1,1,1], padding='SAME')        \n",
    "    hidden = tf.nn.relu(tf.nn.bias_add(conv, layer3_biases))\n",
    "    hidden = tf.nn.dropout(hidden, keep_prob)\n",
    "        \n",
    "    shape = hidden.get_shape().as_list()\n",
    "    reshape = tf.reshape(hidden, [shape[0], shape[1] * shape[2] * shape[3]])\n",
    "\n",
    "    fc1 = tf.nn.relu(tf.nn.bias_add(tf.matmul(reshape, fc1_weight), fc1_biases))\n",
    "    fc2 = tf.nn.relu(tf.nn.bias_add(tf.matmul(fc1, fc2_weight), fc2_biases))\n",
    "    fc3 = tf.nn.relu(tf.nn.bias_add(tf.matmul(fc2, fc3_weight), fc3_biases))\n",
    "    \n",
    "    return tf.nn.bias_add(tf.matmul(fc3, fc4_weight), fc4_biases)\n",
    "\n",
    "logits = model(tf_train_dataset, 1.0) \n",
    "loss = tf.reduce_mean(tf.nn.sparse_softmax_cross_entropy_with_logits(logits, tf_train_labels))\n",
    "regularizers = (tf.nn.l2_loss(fc1_weight) + tf.nn.l2_loss(fc1_biases) +\n",
    "                tf.nn.l2_loss(fc2_weight) + tf.nn.l2_loss(fc2_biases))\n",
    "loss += 5e-4 * regularizers\n",
    "\n",
    "batch = tf.Variable(0, dtype=db_type())    \n",
    "learning_rate = tf.train.exponential_decay(0.01, batch * batch_size, train_size, 0.95, staircase=True)\n",
    "optimizer = tf.train.MomentumOptimizer(learning_rate, 0.9).minimize(loss, global_step=batch)\n",
    "\n",
    "train_pred = tf.nn.softmax(logits)\n",
    "test_pred  = tf.nn.softmax(model(tf_test_dataset, 1.0))"
   ]
  },
  {
   "cell_type": "code",
   "execution_count": 12,
   "metadata": {
    "collapsed": false
   },
   "outputs": [
    {
     "name": "stdout",
     "output_type": "stream",
     "text": [
      "Initialized\n",
      "Minibatch loss at step 0: 9.735559\n",
      "Minibatch accuracy: 21.9%\n",
      "Minibatch loss at step 100: 6.466796\n",
      "Minibatch accuracy: 92.2%\n",
      "Minibatch loss at step 200: 6.306056\n",
      "Minibatch accuracy: 96.9%\n",
      "Minibatch loss at step 300: 6.185059\n",
      "Minibatch accuracy: 96.9%\n",
      "Minibatch loss at step 400: 6.087294\n",
      "Minibatch accuracy: 100.0%\n",
      "Minibatch loss at step 500: 6.228653\n",
      "Minibatch accuracy: 93.8%\n",
      "Minibatch loss at step 600: 6.015191\n",
      "Minibatch accuracy: 98.4%\n",
      "Minibatch loss at step 700: 5.926630\n",
      "Minibatch accuracy: 98.4%\n",
      "Minibatch loss at step 800: 5.985154\n",
      "Minibatch accuracy: 96.9%\n",
      "Minibatch loss at step 900: 5.781195\n",
      "Minibatch accuracy: 100.0%\n",
      "Minibatch loss at step 1000: 5.712509\n",
      "Minibatch accuracy: 100.0%\n",
      "Minibatch loss at step 1100: 5.661492\n",
      "Minibatch accuracy: 100.0%\n",
      "Minibatch loss at step 1200: 5.620688\n",
      "Minibatch accuracy: 100.0%\n",
      "Minibatch loss at step 1300: 5.618818\n",
      "Minibatch accuracy: 96.9%\n",
      "Minibatch loss at step 1400: 5.548978\n",
      "Minibatch accuracy: 98.4%\n",
      "Minibatch loss at step 1500: 5.468178\n",
      "Minibatch accuracy: 100.0%\n",
      "Minibatch loss at step 1600: 5.487641\n",
      "Minibatch accuracy: 98.4%\n",
      "Minibatch loss at step 1700: 5.397426\n",
      "Minibatch accuracy: 98.4%\n",
      "Minibatch loss at step 1800: 5.302000\n",
      "Minibatch accuracy: 100.0%\n",
      "Minibatch loss at step 1900: 5.269783\n",
      "Minibatch accuracy: 98.4%\n",
      "Minibatch loss at step 2000: 5.243971\n",
      "Minibatch accuracy: 98.4%\n",
      "Minibatch loss at step 2100: 5.228524\n",
      "Minibatch accuracy: 96.9%\n",
      "Minibatch loss at step 2200: 5.119737\n",
      "Minibatch accuracy: 100.0%\n",
      "Minibatch loss at step 2300: 5.083214\n",
      "Minibatch accuracy: 100.0%\n",
      "Minibatch loss at step 2400: 5.044906\n",
      "Minibatch accuracy: 98.4%\n",
      "Minibatch loss at step 2500: 4.986331\n",
      "Minibatch accuracy: 100.0%\n",
      "Minibatch loss at step 2600: 4.946980\n",
      "Minibatch accuracy: 100.0%\n",
      "Minibatch loss at step 2700: 4.903392\n",
      "Minibatch accuracy: 100.0%\n",
      "Minibatch loss at step 2800: 4.863555\n",
      "Minibatch accuracy: 100.0%\n",
      "Minibatch loss at step 2900: 4.826151\n",
      "Minibatch accuracy: 100.0%\n",
      "Minibatch loss at step 3000: 4.797057\n",
      "Minibatch accuracy: 100.0%\n",
      "Minibatch loss at step 3100: 4.762615\n",
      "Minibatch accuracy: 98.4%\n",
      "Minibatch loss at step 3200: 4.710585\n",
      "Minibatch accuracy: 100.0%\n",
      "Minibatch loss at step 3300: 4.690749\n",
      "Minibatch accuracy: 98.4%\n",
      "Minibatch loss at step 3400: 4.633910\n",
      "Minibatch accuracy: 100.0%\n",
      "Minibatch loss at step 3500: 4.600490\n",
      "Minibatch accuracy: 100.0%\n",
      "Minibatch loss at step 3600: 4.562700\n",
      "Minibatch accuracy: 100.0%\n",
      "Minibatch loss at step 3700: 4.535029\n",
      "Minibatch accuracy: 100.0%\n",
      "Minibatch loss at step 3800: 4.492983\n",
      "Minibatch accuracy: 100.0%\n",
      "Minibatch loss at step 3900: 4.459896\n",
      "Minibatch accuracy: 100.0%\n",
      "Minibatch loss at step 4000: 4.425959\n",
      "Minibatch accuracy: 100.0%\n",
      "Minibatch loss at step 4100: 4.403129\n",
      "Minibatch accuracy: 100.0%\n",
      "Minibatch loss at step 4200: 4.361979\n",
      "Minibatch accuracy: 100.0%\n",
      "Minibatch loss at step 4300: 4.342001\n",
      "Minibatch accuracy: 98.4%\n",
      "Minibatch loss at step 4400: 4.300450\n",
      "Minibatch accuracy: 100.0%\n",
      "Minibatch loss at step 4500: 4.268177\n",
      "Minibatch accuracy: 100.0%\n",
      "Minibatch loss at step 4600: 4.234442\n",
      "Minibatch accuracy: 100.0%\n",
      "Minibatch loss at step 4700: 4.207434\n",
      "Minibatch accuracy: 100.0%\n",
      "Minibatch loss at step 4800: 4.179280\n",
      "Minibatch accuracy: 100.0%\n",
      "Minibatch loss at step 4900: 4.146670\n",
      "Minibatch accuracy: 100.0%\n",
      "Minibatch loss at step 5000: 4.118260\n",
      "Minibatch accuracy: 100.0%\n",
      "Minibatch loss at step 5100: 4.088957\n",
      "Minibatch accuracy: 100.0%\n",
      "Minibatch loss at step 5200: 4.060617\n",
      "Minibatch accuracy: 100.0%\n",
      "Minibatch loss at step 5300: 4.033695\n",
      "Minibatch accuracy: 100.0%\n",
      "Minibatch loss at step 5400: 4.010956\n",
      "Minibatch accuracy: 100.0%\n",
      "Minibatch loss at step 5500: 3.980455\n",
      "Minibatch accuracy: 100.0%\n",
      "Minibatch loss at step 5600: 3.953674\n",
      "Minibatch accuracy: 100.0%\n",
      "Minibatch loss at step 5700: 3.927355\n",
      "Minibatch accuracy: 100.0%\n",
      "Minibatch loss at step 5800: 3.901884\n",
      "Minibatch accuracy: 100.0%\n",
      "Minibatch loss at step 5900: 3.877062\n",
      "Minibatch accuracy: 100.0%\n",
      "Minibatch loss at step 6000: 3.852253\n",
      "Minibatch accuracy: 100.0%\n",
      "Minibatch loss at step 6100: 3.827529\n",
      "Minibatch accuracy: 100.0%\n",
      "Minibatch loss at step 6200: 3.803540\n",
      "Minibatch accuracy: 100.0%\n",
      "Minibatch loss at step 6300: 3.779164\n",
      "Minibatch accuracy: 100.0%\n",
      "Minibatch loss at step 6400: 3.755929\n",
      "Minibatch accuracy: 100.0%\n",
      "Minibatch loss at step 6500: 3.734565\n",
      "Minibatch accuracy: 100.0%\n",
      "Test accuracy: 98.9%\n"
     ]
    }
   ],
   "source": [
    "with tf.Session() as session:\n",
    "    tf.initialize_all_variables().run()  \n",
    "    print('Initialized')\n",
    "    \n",
    "    for step in xrange(int(10 * train_size) // batch_size):\n",
    "        offset = (step * batch_size) % (y_train.shape[0] - batch_size)\n",
    "        batch_data = X_train[offset:(offset + batch_size), :, :, :]\n",
    "        batch_labels = y_train[offset:(offset + batch_size)]\n",
    "        feed_dict = {tf_train_dataset : batch_data, tf_train_labels : batch_labels}\n",
    "        _, l, predictions = session.run([optimizer, loss, train_pred], feed_dict=feed_dict)\n",
    "            \n",
    "        if (step % 100 == 0):\n",
    "            train_accuracy = accuracy(predictions, batch_labels)\n",
    "            print('Minibatch loss at step %d: %f' % (step, l))\n",
    "            print('Minibatch accuracy: %.1f%%' % train_accuracy)\n",
    "    \n",
    "    predicted = test_pred.eval()\n",
    "    test_accuracy = accuracy(predicted, y_test) # Accuracy compares with previously predicted 99% accurate result.\n",
    "    print('Test accuracy: %.1f%%' % test_accuracy)\n",
    "    \n",
    "    counter = 0 # Reset counter before write submission, so imageId will start from 0.\n",
    "    submisstion(predicted) # Writing result to submission.csv"
   ]
  },
  {
   "cell_type": "code",
   "execution_count": null,
   "metadata": {
    "collapsed": true
   },
   "outputs": [],
   "source": []
  }
 ],
 "metadata": {
  "anaconda-cloud": {},
  "kernelspec": {
   "display_name": "Python [default]",
   "language": "python",
   "name": "python2"
  },
  "language_info": {
   "codemirror_mode": {
    "name": "ipython",
    "version": 2
   },
   "file_extension": ".py",
   "mimetype": "text/x-python",
   "name": "python",
   "nbconvert_exporter": "python",
   "pygments_lexer": "ipython2",
   "version": "2.7.12"
  }
 },
 "nbformat": 4,
 "nbformat_minor": 1
}
