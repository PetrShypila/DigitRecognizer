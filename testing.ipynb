{
 "cells": [
  {
   "cell_type": "code",
   "execution_count": 1,
   "metadata": {
    "collapsed": false
   },
   "outputs": [],
   "source": [
    "import pandas as pd\n",
    "import numpy as np\n",
    "from sklearn import utils\n",
    "import tensorflow as tf\n",
    "import matplotlib.pyplot as plt\n",
    "%matplotlib inline"
   ]
  },
  {
   "cell_type": "code",
   "execution_count": 2,
   "metadata": {
    "collapsed": false
   },
   "outputs": [
    {
     "name": "stdout",
     "output_type": "stream",
     "text": [
      "(42000,)\n",
      "(42000, 28, 28, 1)\n"
     ]
    }
   ],
   "source": [
    "df = pd.read_csv('train.csv');\n",
    "labels = np.array(df.iloc[:,0], dtype=np.int32)\n",
    "samples = np.array(df.iloc[:,1:], dtype=np.float32) / 255.0 - 0.5\n",
    "samples = samples.reshape(samples.shape[0], 28, 28, 1)\n",
    "print(labels.shape)\n",
    "print(samples.shape)"
   ]
  },
  {
   "cell_type": "code",
   "execution_count": 3,
   "metadata": {
    "collapsed": false
   },
   "outputs": [
    {
     "name": "stdout",
     "output_type": "stream",
     "text": [
      "((25200, 28, 28, 1), (25200,))\n",
      "((5880, 28, 28, 1), (5880,))\n",
      "((10920, 28, 28, 1), (10920,))\n"
     ]
    }
   ],
   "source": [
    "from collections import Counter\n",
    "from sklearn.cross_validation import train_test_split\n",
    "X_train, X_valid, y_train, y_valid = train_test_split(samples, labels, train_size=0.6, random_state=42)\n",
    "X_valid, X_test, y_valid, y_test = train_test_split(X_valid, y_valid, test_size=0.65, random_state=42)\n",
    "\n",
    "print(X_train.shape, y_train.shape)\n",
    "print(X_valid.shape, y_valid.shape)\n",
    "print(X_test.shape, y_test.shape)"
   ]
  },
  {
   "cell_type": "code",
   "execution_count": 4,
   "metadata": {
    "collapsed": false
   },
   "outputs": [
    {
     "data": {
      "text/plain": [
       "<matplotlib.text.Text at 0x132a10910>"
      ]
     },
     "execution_count": 4,
     "metadata": {},
     "output_type": "execute_result"
    },
    {
     "data": {
      "image/png": "[encoded data removed]",
      "text/plain": [
       "<matplotlib.figure.Figure at 0x11b107b90>"
      ]
     },
     "metadata": {},
     "output_type": "display_data"
    }
   ],
   "source": [
    "train_count = Counter(y_train)\n",
    "test_count = Counter(y_test)\n",
    "valid_count = Counter(y_valid)\n",
    "\n",
    "f, (ax1, ax2, ax3) = plt.subplots(1, 3, figsize=(20, 5))\n",
    "\n",
    "ax1.bar(train_count.keys(), train_count.values(), align='center')\n",
    "ax1.set_xticks(train_count.keys())\n",
    "ax1.set_title('Train')\n",
    "ax1.set_xlabel('Labels')\n",
    "ax1.set_ylabel('Occurencies')\n",
    "\n",
    "ax2.bar(valid_count.keys(), valid_count.values(), align='center')\n",
    "ax2.set_xticks(valid_count.keys())\n",
    "ax2.set_title('Validation')\n",
    "ax2.set_xlabel('Labels')\n",
    "ax2.set_ylabel('Occurencies')\n",
    "\n",
    "ax3.bar(test_count.keys(), test_count.values(), align='center')\n",
    "ax3.set_xticks(test_count.keys())\n",
    "ax3.set_title('Test')\n",
    "ax3.set_xlabel('Labels')\n",
    "ax3.set_ylabel('Occurencies')"
   ]
  },
  {
   "cell_type": "code",
   "execution_count": 5,
   "metadata": {
    "collapsed": false
   },
   "outputs": [],
   "source": [
    "def db_type():\n",
    "    return tf.float32\n",
    "\n",
    "def accuracy(predictions, labels):\n",
    "    return (100.0 * np.sum(np.argmax(predictions, 1) == labels) / predictions.shape[0])"
   ]
  },
  {
   "cell_type": "code",
   "execution_count": 26,
   "metadata": {
    "collapsed": true
   },
   "outputs": [],
   "source": [
    "image_size = 28 # 28*28\n",
    "num_labels = 10 # 0-9\n",
    "num_channels = 1 # grayscale\n",
    "train_size = y_train.shape[0]\n",
    "\n",
    "batch_size = 64\n",
    "patch_size = 5\n",
    "depth1 = 32\n",
    "depth2 = 64\n",
    "depth3 = 128\n",
    "num_hidden1 = 512\n",
    "num_hidden2 = 64\n",
    "num_hidden3 = 32"
   ]
  },
  {
   "cell_type": "code",
   "execution_count": 27,
   "metadata": {
    "collapsed": false
   },
   "outputs": [],
   "source": [
    "tf_train_dataset = tf.placeholder(db_type(), shape=(batch_size, image_size, image_size, num_channels))\n",
    "tf_train_labels = tf.placeholder(tf.int32, shape=(batch_size,))\n",
    "tf_valid_dataset = tf.constant(X_valid, dtype=db_type())\n",
    "tf_test_dataset = tf.constant(X_test, dtype=db_type())\n",
    "\n",
    "# Variables.\n",
    "layer1_weight = tf.Variable(tf.truncated_normal([patch_size, patch_size, num_channels, depth1], stddev=0.1, dtype=db_type()))\n",
    "layer1_biases = tf.Variable(tf.zeros([depth1], dtype=db_type()))\n",
    "\n",
    "layer2_weight = tf.Variable(tf.truncated_normal([patch_size, patch_size, depth1, depth2], stddev=0.1, dtype=db_type()))\n",
    "layer2_biases = tf.Variable(tf.constant(0.1, shape=[depth2], dtype=db_type()))\n",
    "\n",
    "layer3_weight = tf.Variable(tf.truncated_normal([patch_size, patch_size, depth2, depth3], stddev=0.1, dtype=db_type()))\n",
    "layer3_biases = tf.Variable(tf.constant(0.1, shape=[depth3], dtype=db_type()))\n",
    "\n",
    "fc1_weight = tf.Variable(tf.truncated_normal([12544/2, num_hidden1], stddev=0.1, dtype=db_type()))\n",
    "fc1_biases = tf.Variable(tf.constant(0.1, shape=[num_hidden1], dtype=db_type()))\n",
    "\n",
    "fc2_weight = tf.Variable(tf.truncated_normal([num_hidden1, num_hidden2], stddev=0.1, dtype=db_type()))\n",
    "fc2_biases = tf.Variable(tf.constant(0.1, shape=[num_hidden2], dtype=db_type()))\n",
    "\n",
    "fc3_weight = tf.Variable(tf.truncated_normal([num_hidden2, num_labels], stddev=0.1, dtype=db_type()))\n",
    "fc3_biases = tf.Variable(tf.constant(0.1, shape=[num_labels], dtype=db_type()))\n",
    "\n",
    "# Model.\n",
    "def model(data, keep_prob):\n",
    "    conv = tf.nn.conv2d(data, layer1_weight, strides=[1,1,1,1], padding='SAME')\n",
    "    relu = tf.nn.relu(tf.nn.bias_add(conv, layer1_biases))\n",
    "    pool = tf.nn.max_pool(relu, ksize=[1,2,2,1], strides=[1,2,2,1], padding='SAME')\n",
    "\n",
    "    conv = tf.nn.conv2d(pool, layer2_weight, strides=[1,1,1,1], padding='SAME')\n",
    "    relu = tf.nn.relu(tf.nn.bias_add(conv, layer2_biases))\n",
    "    pool = tf.nn.max_pool(relu, ksize=[1,2,2,1], strides=[1,2,2,1], padding='SAME')\n",
    "        \n",
    "    conv = tf.nn.conv2d(pool, layer3_weight, strides=[1,1,1,1], padding='SAME')        \n",
    "    hidden = tf.nn.relu(tf.nn.bias_add(conv, layer3_biases))\n",
    "    hidden = tf.nn.dropout(hidden, keep_prob)\n",
    "        \n",
    "    shape = hidden.get_shape().as_list()\n",
    "    reshape = tf.reshape(hidden, [shape[0], shape[1] * shape[2] * shape[3]])\n",
    "\n",
    "    fc1 = tf.nn.bias_add(tf.matmul(reshape, fc1_weight), fc1_biases)\n",
    "    fc2 = tf.nn.relu(tf.nn.bias_add(tf.matmul(fc1, fc2_weight), fc2_biases))\n",
    "    \n",
    "    return tf.nn.bias_add(tf.matmul(fc2, fc3_weight), fc3_biases)\n",
    "\n",
    "logits = model(tf_train_dataset, 1.0) \n",
    "loss = tf.reduce_mean(tf.nn.sparse_softmax_cross_entropy_with_logits(logits, tf_train_labels))\n",
    "regularizers = (tf.nn.l2_loss(fc1_weight) + tf.nn.l2_loss(fc1_biases) +\n",
    "                tf.nn.l2_loss(fc2_weight) + tf.nn.l2_loss(fc2_biases))\n",
    "loss += 5e-4 * regularizers\n",
    "\n",
    "batch = tf.Variable(0, dtype=db_type())    \n",
    "learning_rate = tf.train.exponential_decay(0.01, batch * batch_size, train_size, 0.95, staircase=True)\n",
    "optimizer = tf.train.MomentumOptimizer(learning_rate, 0.9).minimize(loss, global_step=batch)\n",
    "\n",
    "train_pred = tf.nn.softmax(logits)\n",
    "valid_pred = tf.nn.softmax(model(tf_valid_dataset, 1.0))\n",
    "test_pred  = tf.nn.softmax(model(tf_test_dataset, 1.0))"
   ]
  },
  {
   "cell_type": "code",
   "execution_count": 28,
   "metadata": {
    "collapsed": false
   },
   "outputs": [
    {
     "name": "stdout",
     "output_type": "stream",
     "text": [
      "Initialized\n",
      "Minibatch loss at step 0: 14.264122\n",
      "Minibatch accuracy: 3.1%\n",
      "Validation accuracy: 10.4%\n",
      "Minibatch loss at step 100: 6.561941\n",
      "Minibatch accuracy: 90.6%\n",
      "Validation accuracy: 89.2%\n",
      "Minibatch loss at step 200: 6.541373\n",
      "Minibatch accuracy: 90.6%\n",
      "Validation accuracy: 93.8%\n",
      "Minibatch loss at step 300: 6.197917\n",
      "Minibatch accuracy: 96.9%\n",
      "Validation accuracy: 95.2%\n",
      "Minibatch loss at step 400: 6.161006\n",
      "Minibatch accuracy: 96.9%\n",
      "Validation accuracy: 96.7%\n",
      "Minibatch loss at step 500: 6.055020\n",
      "Minibatch accuracy: 96.9%\n",
      "Validation accuracy: 96.6%\n",
      "Minibatch loss at step 600: 6.128601\n",
      "Minibatch accuracy: 93.8%\n",
      "Validation accuracy: 96.9%\n",
      "Minibatch loss at step 700: 5.963578\n",
      "Minibatch accuracy: 95.3%\n",
      "Validation accuracy: 97.3%\n",
      "Minibatch loss at step 800: 5.883051\n",
      "Minibatch accuracy: 98.4%\n",
      "Validation accuracy: 97.7%\n",
      "Minibatch loss at step 900: 5.789974\n",
      "Minibatch accuracy: 100.0%\n",
      "Validation accuracy: 97.2%\n",
      "Minibatch loss at step 1000: 5.733007\n",
      "Minibatch accuracy: 100.0%\n",
      "Validation accuracy: 97.5%\n",
      "Minibatch loss at step 1100: 5.681304\n",
      "Minibatch accuracy: 100.0%\n",
      "Validation accuracy: 97.6%\n",
      "Minibatch loss at step 1200: 5.631587\n",
      "Minibatch accuracy: 100.0%\n",
      "Validation accuracy: 98.2%\n",
      "Minibatch loss at step 1300: 5.672353\n",
      "Minibatch accuracy: 98.4%\n",
      "Validation accuracy: 97.1%\n",
      "Minibatch loss at step 1400: 5.533692\n",
      "Minibatch accuracy: 100.0%\n",
      "Validation accuracy: 97.6%\n",
      "Minibatch loss at step 1500: 5.489284\n",
      "Minibatch accuracy: 100.0%\n",
      "Validation accuracy: 98.1%\n",
      "Minibatch loss at step 1600: 5.468278\n",
      "Minibatch accuracy: 98.4%\n",
      "Validation accuracy: 98.1%\n",
      "Minibatch loss at step 1700: 5.391169\n",
      "Minibatch accuracy: 100.0%\n",
      "Validation accuracy: 98.3%\n",
      "Minibatch loss at step 1800: 5.351553\n",
      "Minibatch accuracy: 100.0%\n",
      "Validation accuracy: 97.8%\n",
      "Minibatch loss at step 1900: 5.307195\n",
      "Minibatch accuracy: 100.0%\n",
      "Validation accuracy: 98.1%\n",
      "Minibatch loss at step 2000: 5.264184\n",
      "Minibatch accuracy: 100.0%\n",
      "Validation accuracy: 98.3%\n",
      "Minibatch loss at step 2100: 5.291763\n",
      "Minibatch accuracy: 98.4%\n",
      "Validation accuracy: 98.3%\n",
      "Minibatch loss at step 2200: 5.180750\n",
      "Minibatch accuracy: 100.0%\n",
      "Validation accuracy: 98.4%\n",
      "Minibatch loss at step 2300: 5.150472\n",
      "Minibatch accuracy: 100.0%\n",
      "Validation accuracy: 98.1%\n",
      "Minibatch loss at step 2400: 5.102307\n",
      "Minibatch accuracy: 100.0%\n",
      "Validation accuracy: 98.4%\n",
      "Minibatch loss at step 2500: 5.064744\n",
      "Minibatch accuracy: 100.0%\n",
      "Validation accuracy: 98.3%\n",
      "Minibatch loss at step 2600: 5.036597\n",
      "Minibatch accuracy: 100.0%\n",
      "Validation accuracy: 98.6%\n",
      "Minibatch loss at step 2700: 5.039601\n",
      "Minibatch accuracy: 96.9%\n",
      "Validation accuracy: 98.1%\n",
      "Minibatch loss at step 2800: 4.962256\n",
      "Minibatch accuracy: 100.0%\n",
      "Validation accuracy: 98.6%\n",
      "Minibatch loss at step 2900: 4.920739\n",
      "Minibatch accuracy: 100.0%\n",
      "Validation accuracy: 98.6%\n",
      "Minibatch loss at step 3000: 4.886636\n",
      "Minibatch accuracy: 100.0%\n",
      "Validation accuracy: 98.5%\n",
      "Minibatch loss at step 3100: 4.854127\n",
      "Minibatch accuracy: 100.0%\n",
      "Validation accuracy: 98.4%\n",
      "Minibatch loss at step 3200: 4.822426\n",
      "Minibatch accuracy: 100.0%\n",
      "Validation accuracy: 98.6%\n",
      "Minibatch loss at step 3300: 4.788084\n",
      "Minibatch accuracy: 100.0%\n",
      "Validation accuracy: 98.6%\n",
      "Minibatch loss at step 3400: 4.756058\n",
      "Minibatch accuracy: 100.0%\n",
      "Validation accuracy: 98.6%\n",
      "Minibatch loss at step 3500: 4.724702\n",
      "Minibatch accuracy: 100.0%\n",
      "Validation accuracy: 98.6%\n",
      "Minibatch loss at step 3600: 4.695498\n",
      "Minibatch accuracy: 100.0%\n",
      "Validation accuracy: 98.7%\n",
      "Minibatch loss at step 3700: 4.665122\n",
      "Minibatch accuracy: 100.0%\n",
      "Validation accuracy: 98.7%\n",
      "Minibatch loss at step 3800: 4.635660\n",
      "Minibatch accuracy: 100.0%\n",
      "Validation accuracy: 98.8%\n",
      "Minibatch loss at step 3900: 4.608701\n",
      "Minibatch accuracy: 100.0%\n",
      "Validation accuracy: 98.6%\n",
      "Test accuracy: 98.6%\n"
     ]
    }
   ],
   "source": [
    "num_steps = 1001\n",
    "\n",
    "with tf.Session() as session:\n",
    "    tf.initialize_all_variables().run()  \n",
    "    print('Initialized')\n",
    "    \n",
    "    for step in xrange(int(10 * train_size) // batch_size):\n",
    "        offset = (step * batch_size) % (y_train.shape[0] - batch_size)\n",
    "        batch_data = X_train[offset:(offset + batch_size), :, :, :]\n",
    "        batch_labels = y_train[offset:(offset + batch_size)]\n",
    "        feed_dict = {tf_train_dataset : batch_data, tf_train_labels : batch_labels}\n",
    "        _, l, predictions = session.run([optimizer, loss, train_pred], feed_dict=feed_dict)\n",
    "            \n",
    "        if (step % 100 == 0):\n",
    "            train_accuracy = accuracy(predictions, batch_labels)\n",
    "            valid_accuracy = accuracy(valid_pred.eval(), y_valid)\n",
    "            print('Minibatch loss at step %d: %f' % (step, l))\n",
    "            print('Minibatch accuracy: %.1f%%' % train_accuracy)    \n",
    "            print('Validation accuracy: %.1f%%' % valid_accuracy)\n",
    "            \n",
    "    \n",
    "    print('Test accuracy: %.1f%%' % accuracy(test_pred.eval(), y_test))"
   ]
  },
  {
   "cell_type": "code",
   "execution_count": null,
   "metadata": {
    "collapsed": true
   },
   "outputs": [],
   "source": []
  }
 ],
 "metadata": {
  "anaconda-cloud": {},
  "kernelspec": {
   "display_name": "Python [default]",
   "language": "python",
   "name": "python2"
  },
  "language_info": {
   "codemirror_mode": {
    "name": "ipython",
    "version": 2
   },
   "file_extension": ".py",
   "mimetype": "text/x-python",
   "name": "python",
   "nbconvert_exporter": "python",
   "pygments_lexer": "ipython2",
   "version": "2.7.12"
  }
 },
 "nbformat": 4,
 "nbformat_minor": 1
}
